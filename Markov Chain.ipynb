{
 "cells": [
  {
   "cell_type": "markdown",
   "id": "cQ5EfXLb47JC",
   "metadata": {
    "id": "cQ5EfXLb47JC"
   },
   "source": [
    "### Marketing Attribution using Markov Chains\n",
    "\n",
    "\n",
    "![digital_ads.png](data:image/png;base64,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)"
   ]
  },
  {
   "cell_type": "markdown",
   "id": "E7RL-UA-5DRP",
   "metadata": {
    "id": "E7RL-UA-5DRP"
   },
   "source": [
    "### Problem Overview"
   ]
  },
  {
   "cell_type": "markdown",
   "id": "s-tfS0Rx57CF",
   "metadata": {
    "id": "s-tfS0Rx57CF"
   },
   "source": [
    "Consider that you're a marketer working for a company which  sells product to the customers, as a marketer, you will likely have multiple marketing channels or at least multiple campaigns. The more marketing you run, the more interactions a customer will have with your business. We call all of these interactions for individual customers their customer (or buyer) journey.\n",
    "\n",
    "For example, let's say they first find out about your business in a facebook ad. After weeks of exposure to different ads, organic content, and offline interactions, they convert. Below is an example of their customer journey."
   ]
  },
  {
   "cell_type": "markdown",
   "id": "JsYlLtFc57hn",
   "metadata": {
    "id": "JsYlLtFc57hn"
   },
   "source": [
    "![picture](https://funnel.io/hs-fs/hubfs/Google%20Drive%20Integration/Blog%20post%20the%20digital%20marketing%20attribution%20problem-2.png?width=936&height=336&name=Blog%20post%20the%20digital%20marketing%20attribution%20problem-2.png)"
   ]
  },
  {
   "cell_type": "markdown",
   "id": "cKTHZV9957qA",
   "metadata": {
    "id": "cKTHZV9957qA"
   },
   "source": [
    "This may seem simple enough, but the reality is that it is rarely so linear or clear. So much can happen in a customer journey, both online and offline, and we can't easily understand what goes on from when a customer first discovers our brand to the time that they convert. This is the messy middle."
   ]
  },
  {
   "cell_type": "markdown",
   "id": "5_rxlNgX9Kms",
   "metadata": {
    "id": "5_rxlNgX9Kms"
   },
   "source": [
    "![picture](https://funnel.io/hs-fs/hubfs/Google%20Drive%20Integration/Blog%20post%20the%20digital%20marketing%20attribution%20problem-4.png?width=936&name=Blog%20post%20the%20digital%20marketing%20attribution%20problem-4.png)"
   ]
  },
  {
   "cell_type": "markdown",
   "id": "eeWvM0e09jNO",
   "metadata": {
    "id": "eeWvM0e09jNO"
   },
   "source": [
    "#### Problem Description"
   ]
  },
  {
   "cell_type": "markdown",
   "id": "Ys3wmSi_57yH",
   "metadata": {
    "id": "Ys3wmSi_57yH"
   },
   "source": [
    "As a marketer we will have multiple marketing channels or at least multiple campaigns. so we need to allocate conversion credit to each touchpoint in a users' journey and therefore attribute conversions to specific marketing channels. In simpler words we need to find the contribution of each marketing channel in the conversion of user to a purchase, so that we can invest more in the channel which contributes heavier to the customer conversions to increase our sales"
   ]
  },
  {
   "cell_type": "markdown",
   "id": "Hz7Tr0pQAAA5",
   "metadata": {
    "id": "Hz7Tr0pQAAA5"
   },
   "source": [
    "**What is contribution?**\n",
    "\n",
    "Contribution is the science of understanding how your multi-channel marketing strategy contributes to your end result of conversions.\n",
    "\n",
    "If you increase spend in Facebook ads, what happens to conversions or search volume in Google ads?\n",
    "\n",
    "Because everything is intrinsically linked, we need to better understand the relationship between all of our channels."
   ]
  },
  {
   "cell_type": "markdown",
   "id": "i7lZ8b4G575P",
   "metadata": {
    "id": "i7lZ8b4G575P"
   },
   "source": [
    "#### Types of Attribution Models"
   ]
  },
  {
   "cell_type": "markdown",
   "id": "ObvvfCNi58Ay",
   "metadata": {
    "id": "ObvvfCNi58Ay"
   },
   "source": [
    "There are multiple attribution models to understand which marketing channel is contributing most to conversions,\n",
    "- **Last touch attribution model**\n",
    "   - This is often the default model in most advertising platforms and, as with most models, it is a position based attribution model. It provides all the credit to the last interaction before a user converts\n",
    "- **First touch attribution model**\n",
    "   - This model provides all the credits to the first Ad shown to the customer, it is used when a completely a new product is launched, especially in a scenario where first impression will be the impression\n",
    "\n",
    "- **Linear attribution model**\n",
    "   - First and last touch are common models, but the issue is they only consider one of the many touchpoints. The step up from this is linear attribution which provides equal credit to all\n",
    "\n",
    "- **Time decay attribution model**\n",
    " - If you want something more similar to last touch, the time decay model is for you. It provides a significant portion of the credit to the last touch and very little credit to the first touch.\n"
   ]
  },
  {
   "cell_type": "markdown",
   "id": "1WCqyzJRAUQ2",
   "metadata": {
    "id": "1WCqyzJRAUQ2"
   },
   "source": [
    "### Markov Chains"
   ]
  },
  {
   "cell_type": "markdown",
   "id": "iJ-bDBy4BqNR",
   "metadata": {
    "id": "iJ-bDBy4BqNR"
   },
   "source": [
    "Consider that we are a company A and we are selling a bluetooth headphoes to the customers, so we are adverstising our product through various marketing channels lets assume we advertise our product through 5 channels\n",
    "\n",
    "- Instagram\n",
    "- Online Display\n",
    "- Paid Search\n",
    "- Facebook\n",
    "- Online Video"
   ]
  },
  {
   "cell_type": "markdown",
   "id": "5YxPOWODGUGA",
   "metadata": {
    "id": "5YxPOWODGUGA"
   },
   "source": [
    "We want to find the individual contribution of each channel in conversion of users, Lets solve this using the simple probabilistic model called Markov chains\n",
    "<br>\n",
    "Now our Ads reach certain population of people and each one of the persons goes through different types of Ad at different order\n",
    "<br>\n"
   ]
  },
  {
   "cell_type": "markdown",
   "id": "TT7ymnwFDJiE",
   "metadata": {
    "id": "TT7ymnwFDJiE"
   },
   "source": [
    "For example a person X can go through the following path  \n",
    "**Online display Ad followed by a Instagram Ad followed by a Paid search Ad and finally he buys the bluetooth from us**\n",
    "<br>\n",
    "Similarly each person can go through differnt Ad channels in a different order"
   ]
  },
  {
   "cell_type": "markdown",
   "id": "0K5A8HggD93V",
   "metadata": {
    "id": "0K5A8HggD93V"
   },
   "source": [
    "#### Constructing a markov chain"
   ]
  },
  {
   "cell_type": "markdown",
   "id": "s_I3Ww1kERMh",
   "metadata": {
    "id": "s_I3Ww1kERMh"
   },
   "source": [
    "Lets constuct a Directed edge graph where each node is a Marketing channel or event and edge between them represent the probability of customer going from one node (channel) to another node (channel)"
   ]
  },
  {
   "cell_type": "markdown",
   "id": "TccI9syx_lpr",
   "metadata": {
    "id": "TccI9syx_lpr"
   },
   "source": [
    "![picure](https://channelmix.com/wp-content/uploads/2021/04/markov-chain-v2-862x451.jpg)"
   ]
  },
  {
   "cell_type": "markdown",
   "id": "QoVjYd9JABmL",
   "metadata": {
    "id": "QoVjYd9JABmL"
   },
   "source": [
    "After constructing the markov chain , we shall compute the value for each edge using probability\n",
    "<br>\n",
    "<br>\n",
    "For Example:\n",
    "<br>\n",
    "<br>\n",
    "**The value of the edge from instagram node to online display node**===> The probabilty of a customer encountering an Online Display Ad after an Instagram Ad\n",
    "<br>\n",
    "<br>\n",
    "We can compute this probability using our data"
   ]
  },
  {
   "cell_type": "markdown",
   "id": "KLBP3K6tLhn3",
   "metadata": {
    "id": "KLBP3K6tLhn3"
   },
   "source": [
    "#### Data overview"
   ]
  },
  {
   "cell_type": "markdown",
   "id": "beXyPMA8Bq45",
   "metadata": {
    "id": "beXyPMA8Bq45"
   },
   "source": [
    "Our Dataset has 5 Columns\n",
    "- **Cookie** : A uniuqe id  which representing a unique user\n",
    "- **Time** : time stamp of the event\n",
    "- **Interaction**: The type of interaction between the Ad and user\n",
    "- **Conversion** : Binary variable which indicates whether a conversion took place or not (whether the user purchased or not)\n",
    "- **Conversion value**: Value of the potential conversion event\n",
    "- **Channel**: Channel through which Ad was shown to the customers\n",
    "\n",
    "Each row contains details about a specific Ad shown to a customer\n"
   ]
  },
  {
   "cell_type": "markdown",
   "id": "VqrtsJMoD3wH",
   "metadata": {
    "id": "VqrtsJMoD3wH"
   },
   "source": [
    "#### Importing the necessary libraries"
   ]
  },
  {
   "cell_type": "code",
   "execution_count": 2,
   "id": "d525b289",
   "metadata": {
    "id": "d525b289"
   },
   "outputs": [],
   "source": [
    "# importing the libraries\n",
    "import pandas as pd\n",
    "import numpy as np\n",
    "import seaborn as sns\n",
    "import os\n",
    "import matplotlib.pyplot as plt"
   ]
  },
  {
   "cell_type": "markdown",
   "id": "5PJeqGYULVtk",
   "metadata": {
    "id": "5PJeqGYULVtk"
   },
   "source": [
    "#### Importing the dataset"
   ]
  },
  {
   "cell_type": "code",
   "execution_count": 66,
   "id": "9de7ef63",
   "metadata": {
    "id": "9de7ef63"
   },
   "outputs": [],
   "source": [
    "# loading dataset\n",
    "df=pd.read_csv(\"drive/MyDrive/attribution data.csv\")"
   ]
  },
  {
   "cell_type": "markdown",
   "id": "e4855d67",
   "metadata": {
    "id": "e4855d67"
   },
   "source": [
    "#### Exploring Data"
   ]
  },
  {
   "cell_type": "code",
   "execution_count": 8,
   "id": "cccae09b",
   "metadata": {
    "colab": {
     "base_uri": "https://localhost:8080/",
     "height": 293
    },
    "id": "cccae09b",
    "outputId": "16912048-1543-44df-bbd7-45277a65a7d0"
   },
   "outputs": [
    {
     "data": {
      "text/html": [
       "\n",
       "  <div id=\"df-80f0484b-d930-4bae-b629-db0557f350bd\" class=\"colab-df-container\">\n",
       "    <div>\n",
       "<style scoped>\n",
       "    .dataframe tbody tr th:only-of-type {\n",
       "        vertical-align: middle;\n",
       "    }\n",
       "\n",
       "    .dataframe tbody tr th {\n",
       "        vertical-align: top;\n",
       "    }\n",
       "\n",
       "    .dataframe thead th {\n",
       "        text-align: right;\n",
       "    }\n",
       "</style>\n",
       "<table border=\"1\" class=\"dataframe\">\n",
       "  <thead>\n",
       "    <tr style=\"text-align: right;\">\n",
       "      <th></th>\n",
       "      <th>cookie</th>\n",
       "      <th>time</th>\n",
       "      <th>interaction</th>\n",
       "      <th>conversion</th>\n",
       "      <th>conversion_value</th>\n",
       "      <th>channel</th>\n",
       "    </tr>\n",
       "  </thead>\n",
       "  <tbody>\n",
       "    <tr>\n",
       "      <th>0</th>\n",
       "      <td>00000FkCnDfDDf0iC97iC703B</td>\n",
       "      <td>2018-07-03T13:02:11Z</td>\n",
       "      <td>impression</td>\n",
       "      <td>0</td>\n",
       "      <td>0.0</td>\n",
       "      <td>Instagram</td>\n",
       "    </tr>\n",
       "    <tr>\n",
       "      <th>1</th>\n",
       "      <td>00000FkCnDfDDf0iC97iC703B</td>\n",
       "      <td>2018-07-17T19:15:07Z</td>\n",
       "      <td>impression</td>\n",
       "      <td>0</td>\n",
       "      <td>0.0</td>\n",
       "      <td>Online Display</td>\n",
       "    </tr>\n",
       "    <tr>\n",
       "      <th>2</th>\n",
       "      <td>00000FkCnDfDDf0iC97iC703B</td>\n",
       "      <td>2018-07-24T15:51:46Z</td>\n",
       "      <td>impression</td>\n",
       "      <td>0</td>\n",
       "      <td>0.0</td>\n",
       "      <td>Online Display</td>\n",
       "    </tr>\n",
       "    <tr>\n",
       "      <th>3</th>\n",
       "      <td>00000FkCnDfDDf0iC97iC703B</td>\n",
       "      <td>2018-07-29T07:44:51Z</td>\n",
       "      <td>impression</td>\n",
       "      <td>0</td>\n",
       "      <td>0.0</td>\n",
       "      <td>Online Display</td>\n",
       "    </tr>\n",
       "    <tr>\n",
       "      <th>4</th>\n",
       "      <td>0000nACkD9nFkBBDECD3ki00E</td>\n",
       "      <td>2018-07-03T09:44:57Z</td>\n",
       "      <td>impression</td>\n",
       "      <td>0</td>\n",
       "      <td>0.0</td>\n",
       "      <td>Paid Search</td>\n",
       "    </tr>\n",
       "  </tbody>\n",
       "</table>\n",
       "</div>\n",
       "    <div class=\"colab-df-buttons\">\n",
       "\n",
       "  <div class=\"colab-df-container\">\n",
       "    <button class=\"colab-df-convert\" onclick=\"convertToInteractive('df-80f0484b-d930-4bae-b629-db0557f350bd')\"\n",
       "            title=\"Convert this dataframe to an interactive table.\"\n",
       "            style=\"display:none;\">\n",
       "\n",
       "  <svg xmlns=\"http://www.w3.org/2000/svg\" height=\"24px\" viewBox=\"0 -960 960 960\">\n",
       "    <path d=\"M120-120v-720h720v720H120Zm60-500h600v-160H180v160Zm220 220h160v-160H400v160Zm0 220h160v-160H400v160ZM180-400h160v-160H180v160Zm440 0h160v-160H620v160ZM180-180h160v-160H180v160Zm440 0h160v-160H620v160Z\"/>\n",
       "  </svg>\n",
       "    </button>\n",
       "\n",
       "  <style>\n",
       "    .colab-df-container {\n",
       "      display:flex;\n",
       "      gap: 12px;\n",
       "    }\n",
       "\n",
       "    .colab-df-convert {\n",
       "      background-color: #E8F0FE;\n",
       "      border: none;\n",
       "      border-radius: 50%;\n",
       "      cursor: pointer;\n",
       "      display: none;\n",
       "      fill: #1967D2;\n",
       "      height: 32px;\n",
       "      padding: 0 0 0 0;\n",
       "      width: 32px;\n",
       "    }\n",
       "\n",
       "    .colab-df-convert:hover {\n",
       "      background-color: #E2EBFA;\n",
       "      box-shadow: 0px 1px 2px rgba(60, 64, 67, 0.3), 0px 1px 3px 1px rgba(60, 64, 67, 0.15);\n",
       "      fill: #174EA6;\n",
       "    }\n",
       "\n",
       "    .colab-df-buttons div {\n",
       "      margin-bottom: 4px;\n",
       "    }\n",
       "\n",
       "    [theme=dark] .colab-df-convert {\n",
       "      background-color: #3B4455;\n",
       "      fill: #D2E3FC;\n",
       "    }\n",
       "\n",
       "    [theme=dark] .colab-df-convert:hover {\n",
       "      background-color: #434B5C;\n",
       "      box-shadow: 0px 1px 3px 1px rgba(0, 0, 0, 0.15);\n",
       "      filter: drop-shadow(0px 1px 2px rgba(0, 0, 0, 0.3));\n",
       "      fill: #FFFFFF;\n",
       "    }\n",
       "  </style>\n",
       "\n",
       "    <script>\n",
       "      const buttonEl =\n",
       "        document.querySelector('#df-80f0484b-d930-4bae-b629-db0557f350bd button.colab-df-convert');\n",
       "      buttonEl.style.display =\n",
       "        google.colab.kernel.accessAllowed ? 'block' : 'none';\n",
       "\n",
       "      async function convertToInteractive(key) {\n",
       "        const element = document.querySelector('#df-80f0484b-d930-4bae-b629-db0557f350bd');\n",
       "        const dataTable =\n",
       "          await google.colab.kernel.invokeFunction('convertToInteractive',\n",
       "                                                    [key], {});\n",
       "        if (!dataTable) return;\n",
       "\n",
       "        const docLinkHtml = 'Like what you see? Visit the ' +\n",
       "          '<a target=\"_blank\" href=https://colab.research.google.com/notebooks/data_table.ipynb>data table notebook</a>'\n",
       "          + ' to learn more about interactive tables.';\n",
       "        element.innerHTML = '';\n",
       "        dataTable['output_type'] = 'display_data';\n",
       "        await google.colab.output.renderOutput(dataTable, element);\n",
       "        const docLink = document.createElement('div');\n",
       "        docLink.innerHTML = docLinkHtml;\n",
       "        element.appendChild(docLink);\n",
       "      }\n",
       "    </script>\n",
       "  </div>\n",
       "\n",
       "\n",
       "<div id=\"df-251f36bd-78a5-4130-8710-e0a5d8b6e669\">\n",
       "  <button class=\"colab-df-quickchart\" onclick=\"quickchart('df-251f36bd-78a5-4130-8710-e0a5d8b6e669')\"\n",
       "            title=\"Suggest charts\"\n",
       "            style=\"display:none;\">\n",
       "\n",
       "<svg xmlns=\"http://www.w3.org/2000/svg\" height=\"24px\"viewBox=\"0 0 24 24\"\n",
       "     width=\"24px\">\n",
       "    <g>\n",
       "        <path d=\"M19 3H5c-1.1 0-2 .9-2 2v14c0 1.1.9 2 2 2h14c1.1 0 2-.9 2-2V5c0-1.1-.9-2-2-2zM9 17H7v-7h2v7zm4 0h-2V7h2v10zm4 0h-2v-4h2v4z\"/>\n",
       "    </g>\n",
       "</svg>\n",
       "  </button>\n",
       "\n",
       "<style>\n",
       "  .colab-df-quickchart {\n",
       "      --bg-color: #E8F0FE;\n",
       "      --fill-color: #1967D2;\n",
       "      --hover-bg-color: #E2EBFA;\n",
       "      --hover-fill-color: #174EA6;\n",
       "      --disabled-fill-color: #AAA;\n",
       "      --disabled-bg-color: #DDD;\n",
       "  }\n",
       "\n",
       "  [theme=dark] .colab-df-quickchart {\n",
       "      --bg-color: #3B4455;\n",
       "      --fill-color: #D2E3FC;\n",
       "      --hover-bg-color: #434B5C;\n",
       "      --hover-fill-color: #FFFFFF;\n",
       "      --disabled-bg-color: #3B4455;\n",
       "      --disabled-fill-color: #666;\n",
       "  }\n",
       "\n",
       "  .colab-df-quickchart {\n",
       "    background-color: var(--bg-color);\n",
       "    border: none;\n",
       "    border-radius: 50%;\n",
       "    cursor: pointer;\n",
       "    display: none;\n",
       "    fill: var(--fill-color);\n",
       "    height: 32px;\n",
       "    padding: 0;\n",
       "    width: 32px;\n",
       "  }\n",
       "\n",
       "  .colab-df-quickchart:hover {\n",
       "    background-color: var(--hover-bg-color);\n",
       "    box-shadow: 0 1px 2px rgba(60, 64, 67, 0.3), 0 1px 3px 1px rgba(60, 64, 67, 0.15);\n",
       "    fill: var(--button-hover-fill-color);\n",
       "  }\n",
       "\n",
       "  .colab-df-quickchart-complete:disabled,\n",
       "  .colab-df-quickchart-complete:disabled:hover {\n",
       "    background-color: var(--disabled-bg-color);\n",
       "    fill: var(--disabled-fill-color);\n",
       "    box-shadow: none;\n",
       "  }\n",
       "\n",
       "  .colab-df-spinner {\n",
       "    border: 2px solid var(--fill-color);\n",
       "    border-color: transparent;\n",
       "    border-bottom-color: var(--fill-color);\n",
       "    animation:\n",
       "      spin 1s steps(1) infinite;\n",
       "  }\n",
       "\n",
       "  @keyframes spin {\n",
       "    0% {\n",
       "      border-color: transparent;\n",
       "      border-bottom-color: var(--fill-color);\n",
       "      border-left-color: var(--fill-color);\n",
       "    }\n",
       "    20% {\n",
       "      border-color: transparent;\n",
       "      border-left-color: var(--fill-color);\n",
       "      border-top-color: var(--fill-color);\n",
       "    }\n",
       "    30% {\n",
       "      border-color: transparent;\n",
       "      border-left-color: var(--fill-color);\n",
       "      border-top-color: var(--fill-color);\n",
       "      border-right-color: var(--fill-color);\n",
       "    }\n",
       "    40% {\n",
       "      border-color: transparent;\n",
       "      border-right-color: var(--fill-color);\n",
       "      border-top-color: var(--fill-color);\n",
       "    }\n",
       "    60% {\n",
       "      border-color: transparent;\n",
       "      border-right-color: var(--fill-color);\n",
       "    }\n",
       "    80% {\n",
       "      border-color: transparent;\n",
       "      border-right-color: var(--fill-color);\n",
       "      border-bottom-color: var(--fill-color);\n",
       "    }\n",
       "    90% {\n",
       "      border-color: transparent;\n",
       "      border-bottom-color: var(--fill-color);\n",
       "    }\n",
       "  }\n",
       "</style>\n",
       "\n",
       "  <script>\n",
       "    async function quickchart(key) {\n",
       "      const quickchartButtonEl =\n",
       "        document.querySelector('#' + key + ' button');\n",
       "      quickchartButtonEl.disabled = true;  // To prevent multiple clicks.\n",
       "      quickchartButtonEl.classList.add('colab-df-spinner');\n",
       "      try {\n",
       "        const charts = await google.colab.kernel.invokeFunction(\n",
       "            'suggestCharts', [key], {});\n",
       "      } catch (error) {\n",
       "        console.error('Error during call to suggestCharts:', error);\n",
       "      }\n",
       "      quickchartButtonEl.classList.remove('colab-df-spinner');\n",
       "      quickchartButtonEl.classList.add('colab-df-quickchart-complete');\n",
       "    }\n",
       "    (() => {\n",
       "      let quickchartButtonEl =\n",
       "        document.querySelector('#df-251f36bd-78a5-4130-8710-e0a5d8b6e669 button');\n",
       "      quickchartButtonEl.style.display =\n",
       "        google.colab.kernel.accessAllowed ? 'block' : 'none';\n",
       "    })();\n",
       "  </script>\n",
       "</div>\n",
       "\n",
       "    </div>\n",
       "  </div>\n"
      ],
      "text/plain": [
       "                      cookie                  time interaction  conversion  \\\n",
       "0  00000FkCnDfDDf0iC97iC703B  2018-07-03T13:02:11Z  impression           0   \n",
       "1  00000FkCnDfDDf0iC97iC703B  2018-07-17T19:15:07Z  impression           0   \n",
       "2  00000FkCnDfDDf0iC97iC703B  2018-07-24T15:51:46Z  impression           0   \n",
       "3  00000FkCnDfDDf0iC97iC703B  2018-07-29T07:44:51Z  impression           0   \n",
       "4  0000nACkD9nFkBBDECD3ki00E  2018-07-03T09:44:57Z  impression           0   \n",
       "\n",
       "   conversion_value         channel  \n",
       "0               0.0       Instagram  \n",
       "1               0.0  Online Display  \n",
       "2               0.0  Online Display  \n",
       "3               0.0  Online Display  \n",
       "4               0.0     Paid Search  "
      ]
     },
     "execution_count": 8,
     "metadata": {},
     "output_type": "execute_result"
    }
   ],
   "source": [
    "# printing the first 5 rows of the dataframe\n",
    "df.head(5)"
   ]
  },
  {
   "cell_type": "code",
   "execution_count": 9,
   "id": "72376266",
   "metadata": {
    "colab": {
     "base_uri": "https://localhost:8080/"
    },
    "id": "72376266",
    "outputId": "dd6420a2-dac5-4bc3-eb2e-c79664e80d4b"
   },
   "outputs": [
    {
     "name": "stdout",
     "output_type": "stream",
     "text": [
      "Our Dataset has 586737 rows and 6 no of columns\n"
     ]
    }
   ],
   "source": [
    "# checking the shape of the dataset\n",
    "df.shape\n",
    "print(f\"Our Dataset has {df.shape[0]} rows and {df.shape[1]} no of columns\")"
   ]
  },
  {
   "cell_type": "code",
   "execution_count": null,
   "id": "24a3a847",
   "metadata": {
    "id": "24a3a847",
    "outputId": "6ada32b9-5315-4187-8b23-0ab32843f1d5"
   },
   "outputs": [
    {
     "name": "stdout",
     "output_type": "stream",
     "text": [
      "cookie\n",
      "time\n",
      "interaction\n",
      "conversion\n",
      "conversion_value\n",
      "channel\n"
     ]
    }
   ],
   "source": [
    "# printing  the features\n",
    "for i in df.columns:\n",
    "    print(i)"
   ]
  },
  {
   "cell_type": "markdown",
   "id": "0gZxSA5N1LyH",
   "metadata": {
    "id": "0gZxSA5N1LyH"
   },
   "source": [
    "#### Univariate Analysis"
   ]
  },
  {
   "cell_type": "markdown",
   "id": "pra0gjil27wa",
   "metadata": {
    "id": "pra0gjil27wa"
   },
   "source": [
    "##### 1.**Cookie**"
   ]
  },
  {
   "cell_type": "code",
   "execution_count": 43,
   "id": "FXf-AbPk27Ar",
   "metadata": {
    "colab": {
     "base_uri": "https://localhost:8080/"
    },
    "id": "FXf-AbPk27Ar",
    "outputId": "7de96800-8397-4a96-980f-c2bbb6813c17"
   },
   "outputs": [
    {
     "data": {
      "text/plain": [
       "240108"
      ]
     },
     "execution_count": 43,
     "metadata": {},
     "output_type": "execute_result"
    }
   ],
   "source": [
    "# checking how many unique cookies do we have\n",
    "df['cookie'].nunique()"
   ]
  },
  {
   "cell_type": "markdown",
   "id": "571ee13f",
   "metadata": {
    "id": "571ee13f"
   },
   "source": [
    "Here we have data of 240108 cookies and each cookie refers to an individual person, so totally we have data of 240108 unique persons"
   ]
  },
  {
   "cell_type": "markdown",
   "id": "Rym8S7QD3f-K",
   "metadata": {
    "id": "Rym8S7QD3f-K"
   },
   "source": [
    "##### 2. **Interaction**"
   ]
  },
  {
   "cell_type": "code",
   "execution_count": 24,
   "id": "tRFvKH9V3yW4",
   "metadata": {
    "colab": {
     "base_uri": "https://localhost:8080/",
     "height": 508
    },
    "id": "tRFvKH9V3yW4",
    "outputId": "cf6a4c80-416d-486a-a208-16ff1e311a29"
   },
   "outputs": [
    {
     "data": {
      "text/plain": [
       "<Axes: >"
      ]
     },
     "execution_count": 24,
     "metadata": {},
     "output_type": "execute_result"
    },
    {
     "data": {
      "image/png": "[encoded data removed]",
      "text/plain": [
       "<Figure size 640x480 with 1 Axes>"
      ]
     },
     "metadata": {},
     "output_type": "display_data"
    }
   ],
   "source": [
    "# checking the distribution of interaction\n",
    "df['interaction'].value_counts(normalize=True).plot(kind='bar',color=sns.color_palette('pastel'))"
   ]
  },
  {
   "cell_type": "markdown",
   "id": "CQJJxhcq4Ryy",
   "metadata": {
    "id": "CQJJxhcq4Ryy"
   },
   "source": [
    "We can see than almost 97% of the touch points are just impressions, only 3% of them are conversions"
   ]
  },
  {
   "cell_type": "code",
   "execution_count": 21,
   "id": "ips-XtCn5OlC",
   "metadata": {
    "colab": {
     "base_uri": "https://localhost:8080/"
    },
    "id": "ips-XtCn5OlC",
    "outputId": "c2e0b0b4-1494-41a9-f420-23e579b01a07"
   },
   "outputs": [
    {
     "data": {
      "text/plain": [
       "17639"
      ]
     },
     "execution_count": 21,
     "metadata": {},
     "output_type": "execute_result"
    }
   ],
   "source": [
    "# checking the total no of conversions\n",
    "df['conversion'].sum()"
   ]
  },
  {
   "cell_type": "markdown",
   "id": "a6y131pY5Up5",
   "metadata": {
    "id": "a6y131pY5Up5"
   },
   "source": [
    "Out of 586737 events we have 17639 Conversions events (3% Conversion)"
   ]
  },
  {
   "cell_type": "markdown",
   "id": "dGOjS96e5t-D",
   "metadata": {
    "id": "dGOjS96e5t-D"
   },
   "source": [
    "##### **3.Time**"
   ]
  },
  {
   "cell_type": "code",
   "execution_count": 38,
   "id": "03wx89qE52LS",
   "metadata": {
    "colab": {
     "base_uri": "https://localhost:8080/"
    },
    "id": "03wx89qE52LS",
    "outputId": "eaeaaab8-953b-44da-d6c0-e34941f009e4"
   },
   "outputs": [
    {
     "name": "stdout",
     "output_type": "stream",
     "text": [
      "We have the data\n",
      "\n",
      "From  2018-07-01 13:13:16\n",
      "To: 2018-07-31 23:59:30\n"
     ]
    }
   ],
   "source": [
    "earliest_time = df['time'].min()\n",
    "latest_time = df['time'].max()\n",
    "\n",
    "print(\"We have the data\\n\")\n",
    "print(\"From \", pd.to_datetime(earliest_time, format=\"%Y-%m-%dT%H:%M:%SZ\"))\n",
    "print(\"To:\", pd.to_datetime(latest_time, format=\"%Y-%m-%dT%H:%M:%SZ\"))"
   ]
  },
  {
   "cell_type": "markdown",
   "id": "XvEW2pPu7Hp6",
   "metadata": {
    "id": "XvEW2pPu7Hp6"
   },
   "source": [
    "We have the data for the month of July 2018"
   ]
  },
  {
   "cell_type": "markdown",
   "id": "wuwo4qQ_1S0i",
   "metadata": {
    "id": "wuwo4qQ_1S0i"
   },
   "source": [
    "##### 4. **Channel**"
   ]
  },
  {
   "cell_type": "code",
   "execution_count": null,
   "id": "a0748b69",
   "metadata": {
    "id": "a0748b69",
    "outputId": "adb88ab4-e4be-49da-a261-487cf0976e9b"
   },
   "outputs": [
    {
     "name": "stdout",
     "output_type": "stream",
     "text": [
      "Instagram\n",
      "Online Display\n",
      "Paid Search\n",
      "Facebook\n",
      "Online Video\n"
     ]
    }
   ],
   "source": [
    "# checking the unique channels\n",
    "for i in df.channel.unique():\n",
    "    print(i)"
   ]
  },
  {
   "cell_type": "markdown",
   "id": "300b7cd8",
   "metadata": {
    "id": "300b7cd8"
   },
   "source": [
    "Here totally we have 5 channels and we want to attribute total sales to each channel"
   ]
  },
  {
   "cell_type": "code",
   "execution_count": 42,
   "id": "796757ef",
   "metadata": {
    "colab": {
     "base_uri": "https://localhost:8080/",
     "height": 430
    },
    "id": "796757ef",
    "outputId": "5ad0d16c-dd71-43ad-8ff5-ac4640bb121d"
   },
   "outputs": [
    {
     "data": {
      "image/png": "[encoded data removed]",
      "text/plain": [
       "<Figure size 640x480 with 1 Axes>"
      ]
     },
     "metadata": {},
     "output_type": "display_data"
    }
   ],
   "source": [
    "# checking the distribution of channels\n",
    "df['channel'].value_counts().plot(kind='bar',color=sns.color_palette('pastel'),rot=0)\n",
    "plt.ylabel(\"No of touchpoints\")\n",
    "plt.show()"
   ]
  },
  {
   "cell_type": "markdown",
   "id": "f14c2d17",
   "metadata": {
    "id": "f14c2d17"
   },
   "source": [
    "Majority of the Ad was shown via Facebook followed by other channels like Paid Search, Online Video ...etc"
   ]
  },
  {
   "cell_type": "code",
   "execution_count": null,
   "id": "2efcc47d",
   "metadata": {
    "id": "2efcc47d",
    "outputId": "c65281b6-7ddc-4330-bbe6-885b7f890d7e"
   },
   "outputs": [
    {
     "data": {
      "text/plain": [
       "17639"
      ]
     },
     "execution_count": 73,
     "metadata": {},
     "output_type": "execute_result"
    }
   ],
   "source": [
    "# checking the total no of conversions\n",
    "df['conversion'].sum()"
   ]
  },
  {
   "cell_type": "markdown",
   "id": "f7583e11",
   "metadata": {
    "id": "f7583e11"
   },
   "source": [
    "Out of 586737 events we have 17639 Conversions events  (3% Conversion)"
   ]
  },
  {
   "cell_type": "markdown",
   "id": "113544d0",
   "metadata": {
    "id": "113544d0"
   },
   "source": [
    "#### Pre-Processing"
   ]
  },
  {
   "cell_type": "markdown",
   "id": "staVuhf_PiTb",
   "metadata": {
    "id": "staVuhf_PiTb"
   },
   "source": [
    "Sorting the data using the cookie and time\n"
   ]
  },
  {
   "cell_type": "code",
   "execution_count": 46,
   "id": "3c96f43e",
   "metadata": {
    "id": "3c96f43e"
   },
   "outputs": [],
   "source": [
    "# sorting the df using the\n",
    "df=df.sort_values(['cookie','time'],ascending=[False,True])"
   ]
  },
  {
   "cell_type": "markdown",
   "id": "YkGI-J2ynyNr",
   "metadata": {
    "id": "YkGI-J2ynyNr"
   },
   "source": [
    "Creating a feature \"Visit Order\" which captures the chronological order of the event  "
   ]
  },
  {
   "cell_type": "code",
   "execution_count": 47,
   "id": "03ea623c",
   "metadata": {
    "colab": {
     "base_uri": "https://localhost:8080/",
     "height": 313
    },
    "id": "03ea623c",
    "outputId": "722efbc0-e259-4fbf-9812-48ec4f151b40"
   },
   "outputs": [
    {
     "data": {
      "text/html": [
       "\n",
       "  <div id=\"df-28d2f7ef-0060-40e3-88cb-047384105882\" class=\"colab-df-container\">\n",
       "    <div>\n",
       "<style scoped>\n",
       "    .dataframe tbody tr th:only-of-type {\n",
       "        vertical-align: middle;\n",
       "    }\n",
       "\n",
       "    .dataframe tbody tr th {\n",
       "        vertical-align: top;\n",
       "    }\n",
       "\n",
       "    .dataframe thead th {\n",
       "        text-align: right;\n",
       "    }\n",
       "</style>\n",
       "<table border=\"1\" class=\"dataframe\">\n",
       "  <thead>\n",
       "    <tr style=\"text-align: right;\">\n",
       "      <th></th>\n",
       "      <th>cookie</th>\n",
       "      <th>time</th>\n",
       "      <th>interaction</th>\n",
       "      <th>conversion</th>\n",
       "      <th>conversion_value</th>\n",
       "      <th>channel</th>\n",
       "      <th>visit_order</th>\n",
       "    </tr>\n",
       "  </thead>\n",
       "  <tbody>\n",
       "    <tr>\n",
       "      <th>586736</th>\n",
       "      <td>ooooohAFofEnonEikhAi3fF9o</td>\n",
       "      <td>2018-07-14T17:17:12Z</td>\n",
       "      <td>impression</td>\n",
       "      <td>0</td>\n",
       "      <td>0.0</td>\n",
       "      <td>Paid Search</td>\n",
       "      <td>0</td>\n",
       "    </tr>\n",
       "    <tr>\n",
       "      <th>586734</th>\n",
       "      <td>ooooiBh70D3k3BfAhDFfii9h7</td>\n",
       "      <td>2018-07-03T12:57:25Z</td>\n",
       "      <td>impression</td>\n",
       "      <td>0</td>\n",
       "      <td>0.0</td>\n",
       "      <td>Paid Search</td>\n",
       "      <td>0</td>\n",
       "    </tr>\n",
       "    <tr>\n",
       "      <th>586735</th>\n",
       "      <td>ooooiBh70D3k3BfAhDFfii9h7</td>\n",
       "      <td>2018-07-19T08:17:59Z</td>\n",
       "      <td>impression</td>\n",
       "      <td>0</td>\n",
       "      <td>0.0</td>\n",
       "      <td>Online Video</td>\n",
       "      <td>1</td>\n",
       "    </tr>\n",
       "    <tr>\n",
       "      <th>586731</th>\n",
       "      <td>ooooEiB0CCoEf9fiiC90Dfhfk</td>\n",
       "      <td>2018-07-06T23:30:38Z</td>\n",
       "      <td>impression</td>\n",
       "      <td>0</td>\n",
       "      <td>0.0</td>\n",
       "      <td>Online Display</td>\n",
       "      <td>0</td>\n",
       "    </tr>\n",
       "    <tr>\n",
       "      <th>586732</th>\n",
       "      <td>ooooEiB0CCoEf9fiiC90Dfhfk</td>\n",
       "      <td>2018-07-12T23:50:45Z</td>\n",
       "      <td>impression</td>\n",
       "      <td>0</td>\n",
       "      <td>0.0</td>\n",
       "      <td>Online Display</td>\n",
       "      <td>1</td>\n",
       "    </tr>\n",
       "  </tbody>\n",
       "</table>\n",
       "</div>\n",
       "    <div class=\"colab-df-buttons\">\n",
       "\n",
       "  <div class=\"colab-df-container\">\n",
       "    <button class=\"colab-df-convert\" onclick=\"convertToInteractive('df-28d2f7ef-0060-40e3-88cb-047384105882')\"\n",
       "            title=\"Convert this dataframe to an interactive table.\"\n",
       "            style=\"display:none;\">\n",
       "\n",
       "  <svg xmlns=\"http://www.w3.org/2000/svg\" height=\"24px\" viewBox=\"0 -960 960 960\">\n",
       "    <path d=\"M120-120v-720h720v720H120Zm60-500h600v-160H180v160Zm220 220h160v-160H400v160Zm0 220h160v-160H400v160ZM180-400h160v-160H180v160Zm440 0h160v-160H620v160ZM180-180h160v-160H180v160Zm440 0h160v-160H620v160Z\"/>\n",
       "  </svg>\n",
       "    </button>\n",
       "\n",
       "  <style>\n",
       "    .colab-df-container {\n",
       "      display:flex;\n",
       "      gap: 12px;\n",
       "    }\n",
       "\n",
       "    .colab-df-convert {\n",
       "      background-color: #E8F0FE;\n",
       "      border: none;\n",
       "      border-radius: 50%;\n",
       "      cursor: pointer;\n",
       "      display: none;\n",
       "      fill: #1967D2;\n",
       "      height: 32px;\n",
       "      padding: 0 0 0 0;\n",
       "      width: 32px;\n",
       "    }\n",
       "\n",
       "    .colab-df-convert:hover {\n",
       "      background-color: #E2EBFA;\n",
       "      box-shadow: 0px 1px 2px rgba(60, 64, 67, 0.3), 0px 1px 3px 1px rgba(60, 64, 67, 0.15);\n",
       "      fill: #174EA6;\n",
       "    }\n",
       "\n",
       "    .colab-df-buttons div {\n",
       "      margin-bottom: 4px;\n",
       "    }\n",
       "\n",
       "    [theme=dark] .colab-df-convert {\n",
       "      background-color: #3B4455;\n",
       "      fill: #D2E3FC;\n",
       "    }\n",
       "\n",
       "    [theme=dark] .colab-df-convert:hover {\n",
       "      background-color: #434B5C;\n",
       "      box-shadow: 0px 1px 3px 1px rgba(0, 0, 0, 0.15);\n",
       "      filter: drop-shadow(0px 1px 2px rgba(0, 0, 0, 0.3));\n",
       "      fill: #FFFFFF;\n",
       "    }\n",
       "  </style>\n",
       "\n",
       "    <script>\n",
       "      const buttonEl =\n",
       "        document.querySelector('#df-28d2f7ef-0060-40e3-88cb-047384105882 button.colab-df-convert');\n",
       "      buttonEl.style.display =\n",
       "        google.colab.kernel.accessAllowed ? 'block' : 'none';\n",
       "\n",
       "      async function convertToInteractive(key) {\n",
       "        const element = document.querySelector('#df-28d2f7ef-0060-40e3-88cb-047384105882');\n",
       "        const dataTable =\n",
       "          await google.colab.kernel.invokeFunction('convertToInteractive',\n",
       "                                                    [key], {});\n",
       "        if (!dataTable) return;\n",
       "\n",
       "        const docLinkHtml = 'Like what you see? Visit the ' +\n",
       "          '<a target=\"_blank\" href=https://colab.research.google.com/notebooks/data_table.ipynb>data table notebook</a>'\n",
       "          + ' to learn more about interactive tables.';\n",
       "        element.innerHTML = '';\n",
       "        dataTable['output_type'] = 'display_data';\n",
       "        await google.colab.output.renderOutput(dataTable, element);\n",
       "        const docLink = document.createElement('div');\n",
       "        docLink.innerHTML = docLinkHtml;\n",
       "        element.appendChild(docLink);\n",
       "      }\n",
       "    </script>\n",
       "  </div>\n",
       "\n",
       "\n",
       "<div id=\"df-77ae5e7b-a32f-4647-a0b5-cc9b0ece2147\">\n",
       "  <button class=\"colab-df-quickchart\" onclick=\"quickchart('df-77ae5e7b-a32f-4647-a0b5-cc9b0ece2147')\"\n",
       "            title=\"Suggest charts\"\n",
       "            style=\"display:none;\">\n",
       "\n",
       "<svg xmlns=\"http://www.w3.org/2000/svg\" height=\"24px\"viewBox=\"0 0 24 24\"\n",
       "     width=\"24px\">\n",
       "    <g>\n",
       "        <path d=\"M19 3H5c-1.1 0-2 .9-2 2v14c0 1.1.9 2 2 2h14c1.1 0 2-.9 2-2V5c0-1.1-.9-2-2-2zM9 17H7v-7h2v7zm4 0h-2V7h2v10zm4 0h-2v-4h2v4z\"/>\n",
       "    </g>\n",
       "</svg>\n",
       "  </button>\n",
       "\n",
       "<style>\n",
       "  .colab-df-quickchart {\n",
       "      --bg-color: #E8F0FE;\n",
       "      --fill-color: #1967D2;\n",
       "      --hover-bg-color: #E2EBFA;\n",
       "      --hover-fill-color: #174EA6;\n",
       "      --disabled-fill-color: #AAA;\n",
       "      --disabled-bg-color: #DDD;\n",
       "  }\n",
       "\n",
       "  [theme=dark] .colab-df-quickchart {\n",
       "      --bg-color: #3B4455;\n",
       "      --fill-color: #D2E3FC;\n",
       "      --hover-bg-color: #434B5C;\n",
       "      --hover-fill-color: #FFFFFF;\n",
       "      --disabled-bg-color: #3B4455;\n",
       "      --disabled-fill-color: #666;\n",
       "  }\n",
       "\n",
       "  .colab-df-quickchart {\n",
       "    background-color: var(--bg-color);\n",
       "    border: none;\n",
       "    border-radius: 50%;\n",
       "    cursor: pointer;\n",
       "    display: none;\n",
       "    fill: var(--fill-color);\n",
       "    height: 32px;\n",
       "    padding: 0;\n",
       "    width: 32px;\n",
       "  }\n",
       "\n",
       "  .colab-df-quickchart:hover {\n",
       "    background-color: var(--hover-bg-color);\n",
       "    box-shadow: 0 1px 2px rgba(60, 64, 67, 0.3), 0 1px 3px 1px rgba(60, 64, 67, 0.15);\n",
       "    fill: var(--button-hover-fill-color);\n",
       "  }\n",
       "\n",
       "  .colab-df-quickchart-complete:disabled,\n",
       "  .colab-df-quickchart-complete:disabled:hover {\n",
       "    background-color: var(--disabled-bg-color);\n",
       "    fill: var(--disabled-fill-color);\n",
       "    box-shadow: none;\n",
       "  }\n",
       "\n",
       "  .colab-df-spinner {\n",
       "    border: 2px solid var(--fill-color);\n",
       "    border-color: transparent;\n",
       "    border-bottom-color: var(--fill-color);\n",
       "    animation:\n",
       "      spin 1s steps(1) infinite;\n",
       "  }\n",
       "\n",
       "  @keyframes spin {\n",
       "    0% {\n",
       "      border-color: transparent;\n",
       "      border-bottom-color: var(--fill-color);\n",
       "      border-left-color: var(--fill-color);\n",
       "    }\n",
       "    20% {\n",
       "      border-color: transparent;\n",
       "      border-left-color: var(--fill-color);\n",
       "      border-top-color: var(--fill-color);\n",
       "    }\n",
       "    30% {\n",
       "      border-color: transparent;\n",
       "      border-left-color: var(--fill-color);\n",
       "      border-top-color: var(--fill-color);\n",
       "      border-right-color: var(--fill-color);\n",
       "    }\n",
       "    40% {\n",
       "      border-color: transparent;\n",
       "      border-right-color: var(--fill-color);\n",
       "      border-top-color: var(--fill-color);\n",
       "    }\n",
       "    60% {\n",
       "      border-color: transparent;\n",
       "      border-right-color: var(--fill-color);\n",
       "    }\n",
       "    80% {\n",
       "      border-color: transparent;\n",
       "      border-right-color: var(--fill-color);\n",
       "      border-bottom-color: var(--fill-color);\n",
       "    }\n",
       "    90% {\n",
       "      border-color: transparent;\n",
       "      border-bottom-color: var(--fill-color);\n",
       "    }\n",
       "  }\n",
       "</style>\n",
       "\n",
       "  <script>\n",
       "    async function quickchart(key) {\n",
       "      const quickchartButtonEl =\n",
       "        document.querySelector('#' + key + ' button');\n",
       "      quickchartButtonEl.disabled = true;  // To prevent multiple clicks.\n",
       "      quickchartButtonEl.classList.add('colab-df-spinner');\n",
       "      try {\n",
       "        const charts = await google.colab.kernel.invokeFunction(\n",
       "            'suggestCharts', [key], {});\n",
       "      } catch (error) {\n",
       "        console.error('Error during call to suggestCharts:', error);\n",
       "      }\n",
       "      quickchartButtonEl.classList.remove('colab-df-spinner');\n",
       "      quickchartButtonEl.classList.add('colab-df-quickchart-complete');\n",
       "    }\n",
       "    (() => {\n",
       "      let quickchartButtonEl =\n",
       "        document.querySelector('#df-77ae5e7b-a32f-4647-a0b5-cc9b0ece2147 button');\n",
       "      quickchartButtonEl.style.display =\n",
       "        google.colab.kernel.accessAllowed ? 'block' : 'none';\n",
       "    })();\n",
       "  </script>\n",
       "</div>\n",
       "\n",
       "    </div>\n",
       "  </div>\n"
      ],
      "text/plain": [
       "                           cookie                  time interaction  \\\n",
       "586736  ooooohAFofEnonEikhAi3fF9o  2018-07-14T17:17:12Z  impression   \n",
       "586734  ooooiBh70D3k3BfAhDFfii9h7  2018-07-03T12:57:25Z  impression   \n",
       "586735  ooooiBh70D3k3BfAhDFfii9h7  2018-07-19T08:17:59Z  impression   \n",
       "586731  ooooEiB0CCoEf9fiiC90Dfhfk  2018-07-06T23:30:38Z  impression   \n",
       "586732  ooooEiB0CCoEf9fiiC90Dfhfk  2018-07-12T23:50:45Z  impression   \n",
       "\n",
       "        conversion  conversion_value         channel  visit_order  \n",
       "586736           0               0.0     Paid Search            0  \n",
       "586734           0               0.0     Paid Search            0  \n",
       "586735           0               0.0    Online Video            1  \n",
       "586731           0               0.0  Online Display            0  \n",
       "586732           0               0.0  Online Display            1  "
      ]
     },
     "execution_count": 47,
     "metadata": {},
     "output_type": "execute_result"
    }
   ],
   "source": [
    "# creating a feature visit_order\n",
    "df['visit_order']=df.groupby('cookie').cumcount()\n",
    "df.head(5)"
   ]
  },
  {
   "cell_type": "markdown",
   "id": "XWa9HZDBo2Lj",
   "metadata": {
    "id": "XWa9HZDBo2Lj"
   },
   "source": [
    "Creating a new dataframe which has 2 columns Cookie and the order of events underwent by the respective cookie"
   ]
  },
  {
   "cell_type": "code",
   "execution_count": 48,
   "id": "5cac542b",
   "metadata": {
    "id": "5cac542b"
   },
   "outputs": [],
   "source": [
    "def combine(x):\n",
    "    y=list(x.unique())\n",
    "    return y\n",
    "\n",
    "# creating a new feature which captures the order of Ads for each cookie\n",
    "paths=df.groupby('cookie')['channel'].aggregate(combine)"
   ]
  },
  {
   "cell_type": "code",
   "execution_count": 49,
   "id": "4f6993e9",
   "metadata": {
    "id": "4f6993e9"
   },
   "outputs": [],
   "source": [
    "# dropping the duplicates and getting the cookie and conversion column\n",
    "dropped=df.drop_duplicates('cookie',keep='last')[['cookie','conversion']]"
   ]
  },
  {
   "cell_type": "code",
   "execution_count": 50,
   "id": "ffaa5db4",
   "metadata": {
    "id": "ffaa5db4"
   },
   "outputs": [],
   "source": [
    "# merging the both dataframes\n",
    "dff=pd.merge(dropped,paths,how='left',on='cookie')"
   ]
  },
  {
   "cell_type": "markdown",
   "id": "vAoP8Fa2pUhh",
   "metadata": {
    "id": "vAoP8Fa2pUhh"
   },
   "source": [
    "Defining a function to add starting and ending events for each path\n",
    "- Start represent the starting event\n",
    "- Conversion represent an event in which the customer got converted that is customer made a  purchase\n",
    "- Null represent an event in which the customer did'nt got converted that is customer didn't made any purchase"
   ]
  },
  {
   "cell_type": "code",
   "execution_count": 51,
   "id": "dab30599",
   "metadata": {
    "id": "dab30599"
   },
   "outputs": [],
   "source": [
    "# custom function to add 'Start','Conversion','Null' events\n",
    "def check(d):\n",
    "    if d['conversion']==0:\n",
    "        return ['Start']+d['channel']+['Null']\n",
    "    else:\n",
    "        return ['Start']+d['channel']+['Conversion']\n",
    "\n",
    "# creating a new column\n",
    "dff['path']=dff.apply(check,axis=1)\n",
    "\n",
    "# selecting only the cookie and path column\n",
    "df=dff[['cookie','path']]"
   ]
  },
  {
   "cell_type": "code",
   "execution_count": null,
   "id": "56304875",
   "metadata": {
    "id": "56304875",
    "outputId": "0a19b6ae-ae66-45e6-dc7e-52164db628bb"
   },
   "outputs": [
    {
     "data": {
      "text/html": [
       "<div>\n",
       "<style scoped>\n",
       "    .dataframe tbody tr th:only-of-type {\n",
       "        vertical-align: middle;\n",
       "    }\n",
       "\n",
       "    .dataframe tbody tr th {\n",
       "        vertical-align: top;\n",
       "    }\n",
       "\n",
       "    .dataframe thead th {\n",
       "        text-align: right;\n",
       "    }\n",
       "</style>\n",
       "<table border=\"1\" class=\"dataframe\">\n",
       "  <thead>\n",
       "    <tr style=\"text-align: right;\">\n",
       "      <th></th>\n",
       "      <th>cookie</th>\n",
       "      <th>path</th>\n",
       "    </tr>\n",
       "  </thead>\n",
       "  <tbody>\n",
       "    <tr>\n",
       "      <th>0</th>\n",
       "      <td>ooooohAFofEnonEikhAi3fF9o</td>\n",
       "      <td>[Start, Paid Search, Null]</td>\n",
       "    </tr>\n",
       "    <tr>\n",
       "      <th>1</th>\n",
       "      <td>ooooiBh70D3k3BfAhDFfii9h7</td>\n",
       "      <td>[Start, Paid Search, Online Video, Null]</td>\n",
       "    </tr>\n",
       "    <tr>\n",
       "      <th>2</th>\n",
       "      <td>ooooEiB0CCoEf9fiiC90Dfhfk</td>\n",
       "      <td>[Start, Online Display, Null]</td>\n",
       "    </tr>\n",
       "    <tr>\n",
       "      <th>3</th>\n",
       "      <td>ooooEBE0o0D97ACAAAnDoi3F0</td>\n",
       "      <td>[Start, Online Display, Null]</td>\n",
       "    </tr>\n",
       "    <tr>\n",
       "      <th>4</th>\n",
       "      <td>ooooE0hkAFBkED90ChDDiBFAf</td>\n",
       "      <td>[Start, Online Display, Null]</td>\n",
       "    </tr>\n",
       "    <tr>\n",
       "      <th>5</th>\n",
       "      <td>ooooAnkko0k0Dfino0oDkEoEi</td>\n",
       "      <td>[Start, Paid Search, Online Display, Null]</td>\n",
       "    </tr>\n",
       "    <tr>\n",
       "      <th>6</th>\n",
       "      <td>oooniio7iF9DBA077FBB7FhE3</td>\n",
       "      <td>[Start, Instagram, Facebook, Null]</td>\n",
       "    </tr>\n",
       "    <tr>\n",
       "      <th>7</th>\n",
       "      <td>ooonih0kon3FDAB90EfADEFnn</td>\n",
       "      <td>[Start, Facebook, Instagram, Conversion]</td>\n",
       "    </tr>\n",
       "    <tr>\n",
       "      <th>8</th>\n",
       "      <td>ooonFhEoEn03FEAnEF3oChfnh</td>\n",
       "      <td>[Start, Facebook, Null]</td>\n",
       "    </tr>\n",
       "    <tr>\n",
       "      <th>9</th>\n",
       "      <td>ooon73E3inB907iFof3onf3Fo</td>\n",
       "      <td>[Start, Online Video, Null]</td>\n",
       "    </tr>\n",
       "    <tr>\n",
       "      <th>10</th>\n",
       "      <td>oookE3F3k9Df0Fii9ABEEf9Eh</td>\n",
       "      <td>[Start, Instagram, Facebook, Null]</td>\n",
       "    </tr>\n",
       "    <tr>\n",
       "      <th>11</th>\n",
       "      <td>oookD0E39FB7k0hf97CAEoEB9</td>\n",
       "      <td>[Start, Online Video, Null]</td>\n",
       "    </tr>\n",
       "    <tr>\n",
       "      <th>12</th>\n",
       "      <td>oookCEDh03D7oo3f0FkB799E7</td>\n",
       "      <td>[Start, Paid Search, Online Video, Conversion]</td>\n",
       "    </tr>\n",
       "    <tr>\n",
       "      <th>13</th>\n",
       "      <td>oook0nnhoCo0BoEAho7E9nfEC</td>\n",
       "      <td>[Start, Facebook, Null]</td>\n",
       "    </tr>\n",
       "    <tr>\n",
       "      <th>14</th>\n",
       "      <td>oooik3A7A7FA9oof3hDfin7CB</td>\n",
       "      <td>[Start, Online Display, Conversion]</td>\n",
       "    </tr>\n",
       "    <tr>\n",
       "      <th>15</th>\n",
       "      <td>oooiFD9977iFC9DC3E3D000Ff</td>\n",
       "      <td>[Start, Paid Search, Facebook, Null]</td>\n",
       "    </tr>\n",
       "    <tr>\n",
       "      <th>16</th>\n",
       "      <td>oooiCAf0Dno3Dfi7h7io9kCk9</td>\n",
       "      <td>[Start, Paid Search, Online Display, Null]</td>\n",
       "    </tr>\n",
       "    <tr>\n",
       "      <th>17</th>\n",
       "      <td>oooiA9fi99FiAioAo97DohkF3</td>\n",
       "      <td>[Start, Online Video, Null]</td>\n",
       "    </tr>\n",
       "    <tr>\n",
       "      <th>18</th>\n",
       "      <td>ooohkBnnfDooo3hfCnfDfiEiB</td>\n",
       "      <td>[Start, Paid Search, Null]</td>\n",
       "    </tr>\n",
       "    <tr>\n",
       "      <th>19</th>\n",
       "      <td>oooh7FDi0hBnEDBii70hfEf93</td>\n",
       "      <td>[Start, Facebook, Instagram, Online Display, P...</td>\n",
       "    </tr>\n",
       "  </tbody>\n",
       "</table>\n",
       "</div>"
      ],
      "text/plain": [
       "                       cookie  \\\n",
       "0   ooooohAFofEnonEikhAi3fF9o   \n",
       "1   ooooiBh70D3k3BfAhDFfii9h7   \n",
       "2   ooooEiB0CCoEf9fiiC90Dfhfk   \n",
       "3   ooooEBE0o0D97ACAAAnDoi3F0   \n",
       "4   ooooE0hkAFBkED90ChDDiBFAf   \n",
       "5   ooooAnkko0k0Dfino0oDkEoEi   \n",
       "6   oooniio7iF9DBA077FBB7FhE3   \n",
       "7   ooonih0kon3FDAB90EfADEFnn   \n",
       "8   ooonFhEoEn03FEAnEF3oChfnh   \n",
       "9   ooon73E3inB907iFof3onf3Fo   \n",
       "10  oookE3F3k9Df0Fii9ABEEf9Eh   \n",
       "11  oookD0E39FB7k0hf97CAEoEB9   \n",
       "12  oookCEDh03D7oo3f0FkB799E7   \n",
       "13  oook0nnhoCo0BoEAho7E9nfEC   \n",
       "14  oooik3A7A7FA9oof3hDfin7CB   \n",
       "15  oooiFD9977iFC9DC3E3D000Ff   \n",
       "16  oooiCAf0Dno3Dfi7h7io9kCk9   \n",
       "17  oooiA9fi99FiAioAo97DohkF3   \n",
       "18  ooohkBnnfDooo3hfCnfDfiEiB   \n",
       "19  oooh7FDi0hBnEDBii70hfEf93   \n",
       "\n",
       "                                                 path  \n",
       "0                          [Start, Paid Search, Null]  \n",
       "1            [Start, Paid Search, Online Video, Null]  \n",
       "2                       [Start, Online Display, Null]  \n",
       "3                       [Start, Online Display, Null]  \n",
       "4                       [Start, Online Display, Null]  \n",
       "5          [Start, Paid Search, Online Display, Null]  \n",
       "6                  [Start, Instagram, Facebook, Null]  \n",
       "7            [Start, Facebook, Instagram, Conversion]  \n",
       "8                             [Start, Facebook, Null]  \n",
       "9                         [Start, Online Video, Null]  \n",
       "10                 [Start, Instagram, Facebook, Null]  \n",
       "11                        [Start, Online Video, Null]  \n",
       "12     [Start, Paid Search, Online Video, Conversion]  \n",
       "13                            [Start, Facebook, Null]  \n",
       "14                [Start, Online Display, Conversion]  \n",
       "15               [Start, Paid Search, Facebook, Null]  \n",
       "16         [Start, Paid Search, Online Display, Null]  \n",
       "17                        [Start, Online Video, Null]  \n",
       "18                         [Start, Paid Search, Null]  \n",
       "19  [Start, Facebook, Instagram, Online Display, P...  "
      ]
     },
     "execution_count": 81,
     "metadata": {},
     "output_type": "execute_result"
    }
   ],
   "source": [
    "# printing the top 20 rows\n",
    "df.head(20)"
   ]
  },
  {
   "cell_type": "code",
   "execution_count": 52,
   "id": "7b36966b",
   "metadata": {
    "id": "7b36966b"
   },
   "outputs": [],
   "source": [
    "# getting the paths\n",
    "paths_list=df['path']\n",
    "\n",
    "# counting how many Conversions\n",
    "total_conversions=0\n",
    "for i in paths_list:\n",
    "    if 'Conversion' in i:\n",
    "        total_conversions+=1"
   ]
  },
  {
   "cell_type": "code",
   "execution_count": 53,
   "id": "fe10723c",
   "metadata": {
    "colab": {
     "base_uri": "https://localhost:8080/"
    },
    "id": "fe10723c",
    "outputId": "5b217add-2392-41c3-fda6-6713ee4f5b15"
   },
   "outputs": [
    {
     "data": {
      "text/plain": [
       "0.07346277508454528"
      ]
     },
     "execution_count": 53,
     "metadata": {},
     "output_type": "execute_result"
    }
   ],
   "source": [
    "# calculating the conversion rate\n",
    "conversion_rate=total_conversions/len(paths_list)\n",
    "conversion_rate"
   ]
  },
  {
   "cell_type": "markdown",
   "id": "a6ae12a4",
   "metadata": {
    "id": "a6ae12a4"
   },
   "source": [
    "#### Unique Channels"
   ]
  },
  {
   "cell_type": "code",
   "execution_count": 55,
   "id": "79536a14",
   "metadata": {
    "colab": {
     "base_uri": "https://localhost:8080/"
    },
    "id": "79536a14",
    "outputId": "ff10390f-7489-432f-c235-32baf444236b"
   },
   "outputs": [
    {
     "data": {
      "text/plain": [
       "{'Conversion',\n",
       " 'Facebook',\n",
       " 'Instagram',\n",
       " 'Null',\n",
       " 'Online Display',\n",
       " 'Online Video',\n",
       " 'Paid Search',\n",
       " 'Start'}"
      ]
     },
     "execution_count": 55,
     "metadata": {},
     "output_type": "execute_result"
    }
   ],
   "source": [
    "# getting the set of unique channels\n",
    "unique_channels=set( j for i in paths_list for j in i)\n",
    "unique_channels"
   ]
  },
  {
   "cell_type": "markdown",
   "id": "58e7d54b",
   "metadata": {
    "id": "58e7d54b"
   },
   "source": [
    "#### Possible Transitions\n",
    "\n",
    "Generating all possible transitions between all of the events(nodes)"
   ]
  },
  {
   "cell_type": "code",
   "execution_count": 56,
   "id": "326db0a7",
   "metadata": {
    "id": "326db0a7"
   },
   "outputs": [],
   "source": [
    "# getting all the possible transitions between the nodes\n",
    "\n",
    "dic={}\n",
    "\n",
    "# generating the uniuqe pairs of channels\n",
    "for x in unique_channels:\n",
    "    # Conversion and Null should not be in the beginning\n",
    "    if x!='Conversion' and x!='Null':\n",
    "        for y in unique_channels:\n",
    "            # Start should not be in the ending\n",
    "            if y!='Start':\n",
    "                # no same channels should be in the pair\n",
    "                if x!=y:\n",
    "                    dic[x+'->'+y]=0\n",
    "\n",
    "possible_transitions=dic"
   ]
  },
  {
   "cell_type": "code",
   "execution_count": null,
   "id": "a8b8e181",
   "metadata": {
    "id": "a8b8e181",
    "outputId": "7946fe17-99aa-42a8-ac74-5a7da4f5954c"
   },
   "outputs": [
    {
     "data": {
      "text/plain": [
       "{'Instagram->Null': 0,\n",
       " 'Instagram->Conversion': 0,\n",
       " 'Instagram->Facebook': 0,\n",
       " 'Instagram->Paid Search': 0,\n",
       " 'Instagram->Online Display': 0,\n",
       " 'Instagram->Online Video': 0,\n",
       " 'Facebook->Null': 0,\n",
       " 'Facebook->Conversion': 0,\n",
       " 'Facebook->Instagram': 0,\n",
       " 'Facebook->Paid Search': 0,\n",
       " 'Facebook->Online Display': 0,\n",
       " 'Facebook->Online Video': 0,\n",
       " 'Start->Null': 0,\n",
       " 'Start->Conversion': 0,\n",
       " 'Start->Instagram': 0,\n",
       " 'Start->Facebook': 0,\n",
       " 'Start->Paid Search': 0,\n",
       " 'Start->Online Display': 0,\n",
       " 'Start->Online Video': 0,\n",
       " 'Paid Search->Null': 0,\n",
       " 'Paid Search->Conversion': 0,\n",
       " 'Paid Search->Instagram': 0,\n",
       " 'Paid Search->Facebook': 0,\n",
       " 'Paid Search->Online Display': 0,\n",
       " 'Paid Search->Online Video': 0,\n",
       " 'Online Display->Null': 0,\n",
       " 'Online Display->Conversion': 0,\n",
       " 'Online Display->Instagram': 0,\n",
       " 'Online Display->Facebook': 0,\n",
       " 'Online Display->Paid Search': 0,\n",
       " 'Online Display->Online Video': 0,\n",
       " 'Online Video->Null': 0,\n",
       " 'Online Video->Conversion': 0,\n",
       " 'Online Video->Instagram': 0,\n",
       " 'Online Video->Facebook': 0,\n",
       " 'Online Video->Paid Search': 0,\n",
       " 'Online Video->Online Display': 0}"
      ]
     },
     "execution_count": 86,
     "metadata": {},
     "output_type": "execute_result"
    }
   ],
   "source": [
    "possible_transitions"
   ]
  },
  {
   "cell_type": "code",
   "execution_count": 57,
   "id": "92abcde7",
   "metadata": {
    "colab": {
     "base_uri": "https://localhost:8080/"
    },
    "id": "92abcde7",
    "outputId": "55b58df9-16de-4c76-ad53-c24d2fff6be0"
   },
   "outputs": [
    {
     "data": {
      "text/plain": [
       "{'Paid Search->Instagram': 3038,\n",
       " 'Paid Search->Conversion': 4736,\n",
       " 'Paid Search->Null': 68476,\n",
       " 'Paid Search->Online Display': 4269,\n",
       " 'Paid Search->Facebook': 5725,\n",
       " 'Paid Search->Online Video': 2596,\n",
       " 'Instagram->Paid Search': 2266,\n",
       " 'Instagram->Conversion': 2868,\n",
       " 'Instagram->Null': 31153,\n",
       " 'Instagram->Online Display': 1164,\n",
       " 'Instagram->Facebook': 10822,\n",
       " 'Instagram->Online Video': 1193,\n",
       " 'Start->Paid Search': 76210,\n",
       " 'Start->Instagram': 28618,\n",
       " 'Start->Conversion': 0,\n",
       " 'Start->Null': 0,\n",
       " 'Start->Online Display': 34250,\n",
       " 'Start->Facebook': 66848,\n",
       " 'Start->Online Video': 34182,\n",
       " 'Online Display->Paid Search': 3936,\n",
       " 'Online Display->Instagram': 1251,\n",
       " 'Online Display->Conversion': 2144,\n",
       " 'Online Display->Null': 32236,\n",
       " 'Online Display->Facebook': 2300,\n",
       " 'Online Display->Online Video': 737,\n",
       " 'Facebook->Paid Search': 4464,\n",
       " 'Facebook->Instagram': 15252,\n",
       " 'Facebook->Conversion': 4690,\n",
       " 'Facebook->Null': 59319,\n",
       " 'Facebook->Online Display': 2146,\n",
       " 'Facebook->Online Video': 2254,\n",
       " 'Online Video->Paid Search': 1964,\n",
       " 'Online Video->Instagram': 1307,\n",
       " 'Online Video->Conversion': 3201,\n",
       " 'Online Video->Null': 31285,\n",
       " 'Online Video->Online Display': 775,\n",
       " 'Online Video->Facebook': 2430}"
      ]
     },
     "execution_count": 57,
     "metadata": {},
     "output_type": "execute_result"
    }
   ],
   "source": [
    "# checking if each transition present in paths of each user if so increment the transition value\n",
    "for transition in possible_transitions.keys():\n",
    "    for path in paths_list:\n",
    "        path=\"->\".join(path)\n",
    "        if transition in path:\n",
    "            possible_transitions[transition]+=1\n",
    "possible_transitions"
   ]
  },
  {
   "cell_type": "markdown",
   "id": "n_zQOzL-qss8",
   "metadata": {
    "id": "n_zQOzL-qss8"
   },
   "source": [
    "In the Above dictionary\n",
    "- **key**: it is the path or sequence in which customer encounters Ads from various marketing channels\n",
    "- **Value**: it is the no of customers went through the path\n",
    "<br>\n",
    "<br>\n",
    "For example, The key 'Online Video---> Online Display' has the value 775 it indicates 775 cusomers went from Online Display"
   ]
  },
  {
   "cell_type": "markdown",
   "id": "5029b3c9",
   "metadata": {
    "id": "5029b3c9"
   },
   "source": [
    "#### Transition Probabilities\n",
    "Calculating the transition probabilities"
   ]
  },
  {
   "cell_type": "code",
   "execution_count": 58,
   "id": "1a72775c",
   "metadata": {
    "colab": {
     "base_uri": "https://localhost:8080/"
    },
    "id": "1a72775c",
    "outputId": "1365ea4e-4df2-4d1e-d512-ed109e0ac06e"
   },
   "outputs": [
    {
     "data": {
      "text/plain": [
       "['Paid Search',\n",
       " 'Instagram',\n",
       " 'Conversion',\n",
       " 'Null',\n",
       " 'Start',\n",
       " 'Online Display',\n",
       " 'Facebook',\n",
       " 'Online Video']"
      ]
     },
     "execution_count": 58,
     "metadata": {},
     "output_type": "execute_result"
    }
   ],
   "source": [
    "# definfing a list which as all of the states (Nodes)\n",
    "lst=list(unique_channels)\n",
    "lst"
   ]
  },
  {
   "cell_type": "markdown",
   "id": "C6L8PuntJhaN",
   "metadata": {
    "id": "C6L8PuntJhaN"
   },
   "source": [
    "Lets create a transition probability matrix which stores the transition probabilites"
   ]
  },
  {
   "cell_type": "code",
   "execution_count": 59,
   "id": "19eb888b",
   "metadata": {
    "colab": {
     "base_uri": "https://localhost:8080/"
    },
    "id": "19eb888b",
    "outputId": "93a30e3d-1e76-4b92-eba5-dfbbabbc6aae"
   },
   "outputs": [
    {
     "data": {
      "text/plain": [
       "matrix([[0., 0., 0., 0., 0., 0., 0., 0.],\n",
       "        [0., 0., 0., 0., 0., 0., 0., 0.],\n",
       "        [0., 0., 0., 0., 0., 0., 0., 0.],\n",
       "        [0., 0., 0., 0., 0., 0., 0., 0.],\n",
       "        [0., 0., 0., 0., 0., 0., 0., 0.],\n",
       "        [0., 0., 0., 0., 0., 0., 0., 0.],\n",
       "        [0., 0., 0., 0., 0., 0., 0., 0.],\n",
       "        [0., 0., 0., 0., 0., 0., 0., 0.]])"
      ]
     },
     "execution_count": 59,
     "metadata": {},
     "output_type": "execute_result"
    }
   ],
   "source": [
    "# creating the Transition Prob matrix wh\n",
    "prob_matrix=np.matrix(np.zeros((8,8)))\n",
    "prob_matrix"
   ]
  },
  {
   "cell_type": "code",
   "execution_count": 60,
   "id": "79d302c8",
   "metadata": {
    "colab": {
     "base_uri": "https://localhost:8080/"
    },
    "id": "79d302c8",
    "outputId": "4dce8c26-cdc6-4074-ffa1-a4e1a5c07ff9"
   },
   "outputs": [
    {
     "data": {
      "text/plain": [
       "matrix([[    0.,  3038.,  4736., 68476.,     0.,  4269.,  5725.,  2596.],\n",
       "        [ 2266.,     0.,  2868., 31153.,     0.,  1164., 10822.,  1193.],\n",
       "        [    0.,     0.,     0.,     0.,     0.,     0.,     0.,     0.],\n",
       "        [    0.,     0.,     0.,     0.,     0.,     0.,     0.,     0.],\n",
       "        [76210., 28618.,     0.,     0.,     0., 34250., 66848., 34182.],\n",
       "        [ 3936.,  1251.,  2144., 32236.,     0.,     0.,  2300.,   737.],\n",
       "        [ 4464., 15252.,  4690., 59319.,     0.,  2146.,     0.,  2254.],\n",
       "        [ 1964.,  1307.,  3201., 31285.,     0.,   775.,  2430.,     0.]])"
      ]
     },
     "execution_count": 60,
     "metadata": {},
     "output_type": "execute_result"
    }
   ],
   "source": [
    "# filling the probability matrix\n",
    "for i,j in possible_transitions.items():\n",
    "    i=i.split('->')\n",
    "\n",
    "    # findind the row\n",
    "    row=lst.index(i[0])\n",
    "    # finding the column\n",
    "    col=lst.index(i[1])\n",
    "\n",
    "    # setting the value of prob matrix\n",
    "    prob_matrix[row,col]=j\n",
    "prob_matrix"
   ]
  },
  {
   "cell_type": "code",
   "execution_count": 61,
   "id": "cae451aa",
   "metadata": {
    "colab": {
     "base_uri": "https://localhost:8080/"
    },
    "id": "cae451aa",
    "outputId": "e36bcefa-4d0e-4460-e424-557d7445c89f"
   },
   "outputs": [
    {
     "name": "stderr",
     "output_type": "stream",
     "text": [
      "<ipython-input-61-dd494d05632d>:2: RuntimeWarning: invalid value encountered in divide\n",
      "  prob_matrix=prob_matrix/prob_matrix.sum(axis=1)\n"
     ]
    },
    {
     "data": {
      "text/plain": [
       "matrix([[0.        , 0.03419631, 0.05330932, 0.77077893, 0.        ,\n",
       "         0.04805268, 0.06444169, 0.02922107],\n",
       "        [0.04580924, 0.        , 0.05797922, 0.62978612, 0.        ,\n",
       "         0.02353131, 0.21877653, 0.02411758],\n",
       "        [0.        , 0.        , 0.        , 0.        , 0.        ,\n",
       "         0.        , 0.        , 0.        ],\n",
       "        [0.        , 0.        , 0.        , 0.        , 0.        ,\n",
       "         0.        , 0.        , 0.        ],\n",
       "        [0.31739884, 0.11918803, 0.        , 0.        , 0.        ,\n",
       "         0.14264414, 0.27840805, 0.14236094],\n",
       "        [0.09238569, 0.02936344, 0.05032391, 0.75664257, 0.        ,\n",
       "         0.        , 0.05398554, 0.01729885],\n",
       "        [0.05065532, 0.17307234, 0.05321986, 0.6731234 , 0.        ,\n",
       "         0.02435177, 0.        , 0.0255773 ],\n",
       "        [0.04794688, 0.03190762, 0.0781456 , 0.76375665, 0.        ,\n",
       "         0.01891997, 0.05932328, 0.        ]])"
      ]
     },
     "execution_count": 61,
     "metadata": {},
     "output_type": "execute_result"
    }
   ],
   "source": [
    "# calculating probabilities (dividing each element by the row sum)\n",
    "prob_matrix=prob_matrix/prob_matrix.sum(axis=1)\n",
    "\n",
    "# replacing the Nan with Zeros\n",
    "np.nan_to_num(prob_matrix, copy=False, nan=0.0, posinf=None, neginf=None)\n",
    "prob_matrix"
   ]
  },
  {
   "cell_type": "code",
   "execution_count": 62,
   "id": "8fb3bcf4",
   "metadata": {
    "colab": {
     "base_uri": "https://localhost:8080/",
     "height": 458
    },
    "id": "8fb3bcf4",
    "outputId": "b86533ea-6b1b-4a13-e5f9-6660eebfda51"
   },
   "outputs": [
    {
     "data": {
      "text/plain": [
       "<Axes: >"
      ]
     },
     "execution_count": 62,
     "metadata": {},
     "output_type": "execute_result"
    },
    {
     "data": {
      "image/png": "[encoded data removed]",
      "text/plain": [
       "<Figure size 1500x700 with 2 Axes>"
      ]
     },
     "metadata": {},
     "output_type": "display_data"
    }
   ],
   "source": [
    "fig, ax = plt.subplots(figsize=(15,7))\n",
    "sns.heatmap(prob_matrix,annot=True,xticklabels=lst,yticklabels=lst,cmap=\"Greens\",ax=ax)"
   ]
  },
  {
   "cell_type": "markdown",
   "id": "fi5k-pL5F9dt",
   "metadata": {
    "id": "fi5k-pL5F9dt"
   },
   "source": [
    "The above heatmap represents the transtion probability matrix\n",
    "- An element Aij represents the probability of going from ith state to jth state"
   ]
  },
  {
   "cell_type": "markdown",
   "id": "780e762b",
   "metadata": {
    "id": "780e762b"
   },
   "source": [
    "#### Removal Effect and Contribution of each channel"
   ]
  },
  {
   "cell_type": "markdown",
   "id": "IiuiJeEsGVtk",
   "metadata": {
    "id": "IiuiJeEsGVtk"
   },
   "source": [
    "To find the contribution of a Channel i\n",
    "- **PCi** : Calculate the total probability\n",
    "-**P'Ci** : Remove the node that corresponds to that channel i and then calculate the total probability\n",
    "- **Contribution of Channel i** : 1-(PCi/P'Ci)"
   ]
  },
  {
   "cell_type": "code",
   "execution_count": 63,
   "id": "b9f218bd",
   "metadata": {
    "id": "b9f218bd"
   },
   "outputs": [],
   "source": [
    "# definfing a function which computes the removal effect of a channel\n",
    "\n",
    "def removal_effect(channel,data):\n",
    "\n",
    "    # calculating the probability of conversion before the removal of channel\n",
    "    before_removing=data['conversion'].sum()/len(data)\n",
    "    conversions=data['conversion'].sum()\n",
    "\n",
    "    # removing the channel\n",
    "    removed=data[data['channel']!=channel]\n",
    "\n",
    "    #calculating the prob of conversion after removing the channel\n",
    "    after_removing=removed['conversion'].sum()/len(data)\n",
    "\n",
    "    # calculating the contribution\n",
    "    contribution=1-(after_removing/before_removing)\n",
    "\n",
    "    return contribution\n"
   ]
  },
  {
   "cell_type": "code",
   "execution_count": null,
   "id": "9NixrsGuK0zN",
   "metadata": {
    "id": "9NixrsGuK0zN"
   },
   "outputs": [],
   "source": [
    "# inbetween we have modified the original df so lets import it freshly\n",
    "df=pd.read_csv(\"drive/MyDrive/attribution data.csv\")"
   ]
  },
  {
   "cell_type": "markdown",
   "id": "UiLbdeOEQxds",
   "metadata": {
    "id": "UiLbdeOEQxds"
   },
   "source": [
    "Let's go through each marketing channel and find its contribution\n",
    "\n",
    "\n"
   ]
  },
  {
   "cell_type": "code",
   "execution_count": 67,
   "id": "0b780cfc",
   "metadata": {
    "colab": {
     "base_uri": "https://localhost:8080/"
    },
    "id": "0b780cfc",
    "outputId": "9810b515-bd32-4a2c-ace0-9db9c9ec99fc"
   },
   "outputs": [
    {
     "data": {
      "text/plain": [
       "{'Paid Search': 0.2577810533476954,\n",
       " 'Instagram': 0.12721809626396063,\n",
       " 'Conversion': 0.0,\n",
       " 'Null': 0.0,\n",
       " 'Start': 0.0,\n",
       " 'Online Display': 0.12126537785588765,\n",
       " 'Facebook': 0.3005272407732865,\n",
       " 'Online Video': 0.19320823175917}"
      ]
     },
     "execution_count": 67,
     "metadata": {},
     "output_type": "execute_result"
    }
   ],
   "source": [
    "# iterating over the channels and finding the contribution of each channel\n",
    "contributions={}\n",
    "for channel in lst:\n",
    "    contributions[channel]=removal_effect(channel,df)\n",
    "contributions"
   ]
  },
  {
   "cell_type": "code",
   "execution_count": 68,
   "id": "17a4ae36",
   "metadata": {
    "id": "17a4ae36"
   },
   "outputs": [],
   "source": [
    "re_sum=np.sum([i for i in contributions.values()])\n",
    "attributions={k: (v / re_sum) *total_conversions for k, v in contributions.items()}\n",
    "del attributions['Start'],attributions['Conversion'],attributions['Null']"
   ]
  },
  {
   "cell_type": "code",
   "execution_count": 87,
   "id": "6f04f6d3",
   "metadata": {
    "colab": {
     "base_uri": "https://localhost:8080/",
     "height": 445
    },
    "id": "6f04f6d3",
    "outputId": "7b765429-be04-47e5-837b-09595def7085"
   },
   "outputs": [
    {
     "data": {
      "image/png": "[encoded data removed]",
      "text/plain": [
       "<Figure size 700x500 with 1 Axes>"
      ]
     },
     "metadata": {},
     "output_type": "display_data"
    }
   ],
   "source": [
    "# plotting the individual contributions of each channels\n",
    "attributions=pd.Series(attributions)\n",
    "attributions.plot(kind='bar',rot=0,figsize=(7,5),color=sns.color_palette('colorblind'))\n",
    "plt.ylabel(\"conversions\")\n",
    "plt.show()"
   ]
  },
  {
   "cell_type": "markdown",
   "id": "32fb863e",
   "metadata": {
    "id": "32fb863e"
   },
   "source": [
    "##### **From the above Bar plot it is evident that Facebook channels contributes heavier to the conversion followed by Paid Search Channel, Online Video Channel, Instagram and Online Display**"
   ]
  },
  {
   "cell_type": "code",
   "execution_count": null,
   "id": "YZCdDzL38A0G",
   "metadata": {
    "id": "YZCdDzL38A0G"
   },
   "outputs": [],
   "source": []
  }
 ],
 "metadata": {
  "colab": {
   "collapsed_sections": [
    "5PJeqGYULVtk",
    "e4855d67",
    "0gZxSA5N1LyH",
    "dGOjS96e5t-D",
    "wuwo4qQ_1S0i",
    "113544d0",
    "a6ae12a4",
    "58e7d54b",
    "5029b3c9"
   ],
   "provenance": [],
   "toc_visible": true
  },
  "kernelspec": {
   "display_name": "Python 3 (ipykernel)",
   "language": "python",
   "name": "python3"
  },
  "language_info": {
   "codemirror_mode": {
    "name": "ipython",
    "version": 3
   },
   "file_extension": ".py",
   "mimetype": "text/x-python",
   "name": "python",
   "nbconvert_exporter": "python",
   "pygments_lexer": "ipython3",
   "version": "3.11.2"
  }
 },
 "nbformat": 4,
 "nbformat_minor": 5
}
